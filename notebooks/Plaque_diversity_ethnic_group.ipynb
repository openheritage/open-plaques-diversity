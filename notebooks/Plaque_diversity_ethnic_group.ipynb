{
 "cells": [
  {
   "cell_type": "code",
   "execution_count": null,
   "metadata": {},
   "outputs": [],
   "source": [
    "import pandas as pd\n",
    "import matplotlib.pyplot as plt\n",
    "import time\n",
    "from qwikidata.sparql import (get_subclasses_of_item,\n",
    "                              return_sparql_query_results)"
   ]
  },
  {
   "cell_type": "code",
   "execution_count": null,
   "metadata": {},
   "outputs": [],
   "source": [
    "FILENAME = '../data/open-plaques-subjects-london.csv'\n",
    "df = pd.read_csv(FILENAME)"
   ]
  },
  {
   "cell_type": "code",
   "execution_count": null,
   "metadata": {},
   "outputs": [],
   "source": [
    "# Quick analysis of the gender proportions\n",
    "gender = {}\n",
    "for index, row in df.iterrows():\n",
    "    try:\n",
    "        gender[row['sex']] += 1\n",
    "    except:\n",
    "        gender[row['sex']] = 1"
   ]
  },
  {
   "cell_type": "code",
   "execution_count": null,
   "metadata": {
    "scrolled": true
   },
   "outputs": [],
   "source": [
    "# Display as a pie chart\n",
    "plt.pie(gender.values(), labels = gender.keys(), startangle = 90)\n",
    "plt.show()"
   ]
  },
  {
   "cell_type": "code",
   "execution_count": null,
   "metadata": {},
   "outputs": [],
   "source": [
    "FILENAME = '../data/open-plaques-subjects-sample.csv'\n",
    "df = pd.read_csv(FILENAME)"
   ]
  },
  {
   "cell_type": "code",
   "execution_count": null,
   "metadata": {},
   "outputs": [],
   "source": [
    "# Remove the rows which don't have wikidata id's attached\n",
    "df.dropna(subset = ['wikidata_id'], inplace = True)"
   ]
  },
  {
   "cell_type": "code",
   "execution_count": null,
   "metadata": {},
   "outputs": [],
   "source": [
    "# Store the results in a list\n",
    "results = []\n",
    "print('Total wikidata examples {0}'.format(df.shape[0]))\n",
    "\n",
    "# Iterate through the wiki IDs\n",
    "for i, row in df.iterrows():\n",
    "    \n",
    "    # Waiting will mean more of the queries come back with results\n",
    "    time.sleep(1)\n",
    "    \n",
    "    # P172 represents the ethnicity\n",
    "    sparql_query = \"\"\"\n",
    "    SELECT ?item ?itemLabel \n",
    "    WHERE \n",
    "    {\n",
    "      wd:\"\"\" + row['wikidata_id'] + \"\"\" wdt:P172 ?item.\n",
    "      SERVICE wikibase:label {bd:serviceParam wikibase:language \"en\" . }\n",
    "    }\n",
    "    \"\"\"\n",
    "    \n",
    "    # Use a try to avoid errors where the property field for cizenship isn't present e.g. objects\n",
    "    try:\n",
    "        res = return_sparql_query_results(sparql_query)\n",
    "        results.append(res['results']['bindings'][0]['itemLabel']['value'])\n",
    "        print(i, end = ',')\n",
    "    except:\n",
    "        continue"
   ]
  },
  {
   "cell_type": "code",
   "execution_count": null,
   "metadata": {},
   "outputs": [],
   "source": [
    "len(results)"
   ]
  },
  {
   "cell_type": "code",
   "execution_count": null,
   "metadata": {},
   "outputs": [],
   "source": [
    "# Condense the list into a frequency dictionary\n",
    "res_dict = {}\n",
    "for citizen in results:\n",
    "    try:\n",
    "        res_dict[citizen] += 1\n",
    "    except:\n",
    "        res_dict[citizen] = 1"
   ]
  },
  {
   "cell_type": "code",
   "execution_count": null,
   "metadata": {
    "scrolled": false
   },
   "outputs": [],
   "source": [
    "y_pos = list(range(len(res_dict)))\n",
    "plt.rcParams[\"figure.figsize\"] = (16,9)\n",
    "fig = plt.figure()\n",
    "plt.barh(y_pos, res_dict.values())\n",
    "plt.yticks(y_pos, res_dict.keys())\n",
    "\n",
    "fig.suptitle('Ethnic group of plaques in London',  fontsize = 20)\n",
    "plt.xlabel('Frequency', fontsize = 15)\n",
    "plt.ylabel('Ethnic group',  fontsize = 15)\n",
    "\n",
    "plt.show()\n",
    "fig.savefig('Ethnic group horizontal bar chart')"
   ]
  },
  {
   "cell_type": "code",
   "execution_count": null,
   "metadata": {},
   "outputs": [],
   "source": []
  }
 ],
 "metadata": {
  "kernelspec": {
   "display_name": "Python 3 (ipykernel)",
   "language": "python",
   "name": "python3"
  },
  "language_info": {
   "codemirror_mode": {
    "name": "ipython",
    "version": 3
   },
   "file_extension": ".py",
   "mimetype": "text/x-python",
   "name": "python",
   "nbconvert_exporter": "python",
   "pygments_lexer": "ipython3",
   "version": "3.9.7"
  }
 },
 "nbformat": 4,
 "nbformat_minor": 4
}
