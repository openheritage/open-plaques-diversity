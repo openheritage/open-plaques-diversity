{
 "cells": [
  {
   "cell_type": "code",
   "execution_count": 1,
   "metadata": {},
   "outputs": [],
   "source": [
    "import pandas as pd\n",
    "import re\n",
    "import urllib"
   ]
  },
  {
   "cell_type": "code",
   "execution_count": 2,
   "metadata": {},
   "outputs": [],
   "source": [
    "# Set the filename of the csv for analysis - same directory\n",
    "FILENAME = 'open-plaques-subjects-london.csv'\n",
    "df = pd.read_csv(FILENAME)"
   ]
  },
  {
   "cell_type": "code",
   "execution_count": 3,
   "metadata": {},
   "outputs": [],
   "source": [
    "# Get the name from the Wikipedia list of slave traders\n",
    "slave_owners = str(urllib.request.urlopen('https://en.wikipedia.org/wiki/List_of_slave_owners').read())"
   ]
  },
  {
   "cell_type": "code",
   "execution_count": 4,
   "metadata": {},
   "outputs": [
    {
     "name": "stdout",
     "output_type": "stream",
     "text": [
      "James Brown man male\n",
      "William Penn man male\n",
      "John Marshall man male\n",
      "Robert Milligan man male\n",
      "Hodge animal male\n",
      "Martin Van Buren man male\n",
      "Benjamin Franklin man male\n"
     ]
    }
   ],
   "source": [
    "# Cross check these with those from the Plaque database\n",
    "for i, row in df.iterrows():\n",
    "    if row['full_name'] in slave_owners:\n",
    "        print(row['full_name'], row['type'], row['sex'])"
   ]
  },
  {
   "cell_type": "code",
   "execution_count": null,
   "metadata": {},
   "outputs": [],
   "source": []
  }
 ],
 "metadata": {
  "kernelspec": {
   "display_name": "Python 3",
   "language": "python",
   "name": "python3"
  },
  "language_info": {
   "codemirror_mode": {
    "name": "ipython",
    "version": 3
   },
   "file_extension": ".py",
   "mimetype": "text/x-python",
   "name": "python",
   "nbconvert_exporter": "python",
   "pygments_lexer": "ipython3",
   "version": "3.8.3"
  }
 },
 "nbformat": 4,
 "nbformat_minor": 4
}
